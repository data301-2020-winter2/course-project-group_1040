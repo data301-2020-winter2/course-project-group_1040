{
 "cells": [
  {
   "cell_type": "code",
   "execution_count": 2,
   "metadata": {},
   "outputs": [
    {
     "name": "stdout",
     "output_type": "stream",
     "text": [
      "              date  season  neutral playoff home_team away_team  home_pre  \\\n",
      "0       10/27/2020    2020        1       w       LAD       TBD  1607.758   \n",
      "1       10/25/2020    2020        1       w       TBD       LAD  1566.450   \n",
      "2       10/24/2020    2020        1       w       TBD       LAD  1563.862   \n",
      "3       10/23/2020    2020        1       w       TBD       LAD  1567.099   \n",
      "4       10/21/2020    2020        1       w       LAD       TBD  1608.352   \n",
      "...            ...     ...      ...     ...       ...       ...       ...   \n",
      "220956  1871-05-09    1871        0       s       TRO       ATL  1450.000   \n",
      "220957  1871-05-08    1871        0       s       CHC       CL1  1450.000   \n",
      "220958  1871-05-06    1871        0       s       RC1       CL1  1450.000   \n",
      "220959  1871-05-05    1871        0       s       WS3       ATL  1450.000   \n",
      "220960  1871-05-04    1871        0       s       FW1       CL1  1450.000   \n",
      "\n",
      "        away_pre  home_prob  away_prob  home_post  away_post  home_score  \\\n",
      "0       1564.178      0.583      0.417   1610.046   1561.890           3   \n",
      "1       1605.486      0.426      0.574   1564.178   1607.758           2   \n",
      "2       1608.074      0.416      0.584   1566.450   1605.486           8   \n",
      "3       1604.836      0.428      0.572   1563.862   1608.074           2   \n",
      "4       1563.583      0.585      0.415   1604.836   1567.099           4   \n",
      "...          ...        ...        ...        ...        ...         ...   \n",
      "220956  1451.483      0.532      0.468   1448.525   1452.958           5   \n",
      "220957  1451.943      0.532      0.468   1451.256   1450.687          14   \n",
      "220958  1448.754      0.536      0.464   1446.810   1451.943           4   \n",
      "220959  1450.000      0.534      0.466   1448.517   1451.483          18   \n",
      "220960  1450.000      0.534      0.466   1451.246   1448.754           2   \n",
      "\n",
      "        away_score  \n",
      "0                1  \n",
      "1                4  \n",
      "2                7  \n",
      "3                6  \n",
      "4                6  \n",
      "...            ...  \n",
      "220956           9  \n",
      "220957          12  \n",
      "220958          12  \n",
      "220959          20  \n",
      "220960           0  \n",
      "\n",
      "[220961 rows x 14 columns]\n"
     ]
    }
   ],
   "source": [
    "import os\n",
    "import sys\n",
    "module_path = os.path.abspath(os.path.join('..'))\n",
    "if module_path not in sys.path:\n",
    "    sys.path.append(module_path)\n",
    "from scripts import project_functions\n",
    "\n",
    "df = project_functions.load_and_process('../../data/raw/mlb_elo.csv')"
   ]
  },
  {
   "cell_type": "code",
   "execution_count": 5,
   "metadata": {},
   "outputs": [
    {
     "name": "stdout",
     "output_type": "stream",
     "text": [
      "            date  season playoff home_team away_team  home_pre  away_pre  \\\n",
      "44     9/30/2020    2020       c       TBD       TOR  1563.143  1499.523   \n",
      "50     9/29/2020    2020       c       TBD       TOR  1561.455  1501.211   \n",
      "62     9/27/2020    2020       s       TOR       BAL  1503.406  1464.088   \n",
      "80     9/26/2020    2020       s       TOR       BAL  1501.685  1465.809   \n",
      "100    9/25/2020    2020       s       TOR       BAL  1499.342  1468.152   \n",
      "...          ...     ...     ...       ...       ...       ...       ...   \n",
      "98841  4/12/1977    1977       s       TOR       DET  1454.406  1465.796   \n",
      "98851  4/11/1977    1977       s       TOR       DET  1452.672  1467.530   \n",
      "98861  4/10/1977    1977       s       TOR       CHW  1450.984  1458.749   \n",
      "98873   4/9/1977    1977       s       TOR       CHW  1452.443  1457.290   \n",
      "98888   4/7/1977    1977       s       TOR       CHW  1450.000  1459.733   \n",
      "\n",
      "       home_score  away_score  \n",
      "44              8           2  \n",
      "50              3           1  \n",
      "62              5           7  \n",
      "80              5           2  \n",
      "100            10           5  \n",
      "...           ...         ...  \n",
      "98841           1           6  \n",
      "98851           5           3  \n",
      "98861           3           1  \n",
      "98873           2           3  \n",
      "98888           9           5  \n",
      "\n",
      "[6967 rows x 9 columns]\n"
     ]
    }
   ],
   "source": [
    "#Every game toronto has every played\n",
    "df1 = df[(df[\"home_team\"] == \"TOR\") | (df[\"away_team\"] == \"TOR\")]\n",
    "df2 = df1.drop([\"neutral\", \"home_prob\", \"away_prob\", \"home_post\", \"away_post\"], axis=\"columns\")\n",
    "print(df2)"
   ]
  },
  {
   "cell_type": "code",
   "execution_count": null,
   "metadata": {},
   "outputs": [],
   "source": []
  },
  {
   "cell_type": "code",
   "execution_count": null,
   "metadata": {},
   "outputs": [],
   "source": []
  }
 ],
 "metadata": {
  "kernelspec": {
   "display_name": "Python 3",
   "language": "python",
   "name": "python3"
  },
  "language_info": {
   "codemirror_mode": {
    "name": "ipython",
    "version": 3
   },
   "file_extension": ".py",
   "mimetype": "text/x-python",
   "name": "python",
   "nbconvert_exporter": "python",
   "pygments_lexer": "ipython3",
   "version": "3.8.3"
  }
 },
 "nbformat": 4,
 "nbformat_minor": 4
}

{
 "cells": [
  {
   "cell_type": "code",
   "execution_count": 1,
   "metadata": {},
   "outputs": [],
   "source": [
    "import os\n",
    "import sys\n",
    "module_path = os.path.abspath(os.path.join('..'))\n",
    "if module_path not in sys.path:\n",
    "    sys.path.append(module_path)\n",
    "from scripts import project_functions\n",
    "\n",
    "df = project_functions.load_and_process('../../data/raw/mlb_elo.csv')"
   ]
  },
  {
   "cell_type": "code",
   "execution_count": 2,
   "metadata": {},
   "outputs": [
    {
     "name": "stdout",
     "output_type": "stream",
     "text": [
      "            date  season playoff home_team away_team  home_pre  away_pre  \\\n",
      "44     9/30/2020    2020       c       TBD       TOR  1563.143  1499.523   \n",
      "50     9/29/2020    2020       c       TBD       TOR  1561.455  1501.211   \n",
      "62     9/27/2020    2020       s       TOR       BAL  1503.406  1464.088   \n",
      "80     9/26/2020    2020       s       TOR       BAL  1501.685  1465.809   \n",
      "100    9/25/2020    2020       s       TOR       BAL  1499.342  1468.152   \n",
      "...          ...     ...     ...       ...       ...       ...       ...   \n",
      "98841  4/12/1977    1977       s       TOR       DET  1454.406  1465.796   \n",
      "98851  4/11/1977    1977       s       TOR       DET  1452.672  1467.530   \n",
      "98861  4/10/1977    1977       s       TOR       CHW  1450.984  1458.749   \n",
      "98873   4/9/1977    1977       s       TOR       CHW  1452.443  1457.290   \n",
      "98888   4/7/1977    1977       s       TOR       CHW  1450.000  1459.733   \n",
      "\n",
      "      home_pitcher_rating away_pitcher_rating  home_score  away_score  \n",
      "44                   3.97              33.316           8           2  \n",
      "50                  5.395               11.07           3           1  \n",
      "62                -23.485               8.678           5           7  \n",
      "80                -10.825               20.59           5           2  \n",
      "100                 3.625             -17.189          10           5  \n",
      "...                   ...                 ...         ...         ...  \n",
      "98841              10.233               3.151           1           6  \n",
      "98851              10.233               3.151           5           3  \n",
      "98861              10.233               5.454           3           1  \n",
      "98873              10.233               5.454           2           3  \n",
      "98888              10.233               5.454           9           5  \n",
      "\n",
      "[6967 rows x 11 columns]\n"
     ]
    }
   ],
   "source": [
    "#Every game toronto has every played\n",
    "df1 = df[(df[\"home_team\"] == \"TOR\") | (df[\"away_team\"] == \"TOR\")]\n",
    "df2 = df1.drop([\"neutral\", \"home_prob\", \"away_prob\", \"home_post\", \"away_post\"], axis=\"columns\")\n",
    "print(df2)"
   ]
  },
  {
   "cell_type": "code",
   "execution_count": null,
   "metadata": {},
   "outputs": [],
   "source": []
  },
  {
   "cell_type": "code",
   "execution_count": null,
   "metadata": {},
   "outputs": [],
   "source": []
  }
 ],
 "metadata": {
  "kernelspec": {
   "display_name": "Python 3",
   "language": "python",
   "name": "python3"
  },
  "language_info": {
   "codemirror_mode": {
    "name": "ipython",
    "version": 3
   },
   "file_extension": ".py",
   "mimetype": "text/x-python",
   "name": "python",
   "nbconvert_exporter": "python",
   "pygments_lexer": "ipython3",
   "version": "3.8.3"
  }
 },
 "nbformat": 4,
 "nbformat_minor": 4
}

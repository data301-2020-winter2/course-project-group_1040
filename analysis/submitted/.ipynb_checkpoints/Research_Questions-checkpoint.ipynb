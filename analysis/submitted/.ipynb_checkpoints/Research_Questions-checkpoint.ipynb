{
 "cells": [
  {
   "cell_type": "markdown",
   "id": "functioning-africa",
   "metadata": {},
   "source": [
    "# Task 5: Conduct your analysis"
   ]
  },
  {
   "cell_type": "markdown",
   "id": "unable-company",
   "metadata": {},
   "source": [
    "## Research Questions:\n",
    "- What is the best team at home?\n",
    "- What is the most competative league?\n",
    "- What is the least competative league?\n",
    "- Who overcame the biggeset negative pitcher adjusted rating in comparison to his opponent to win a World Series?\n",
    "- Who had the biggest pitcher adjusted rating advantage in comparison to his opponent and wonn a World Series game?\n",
    "- Who was the worst pitcher in terms of rolling game score to win a game in the world series?\n",
    "- Who was the best pitcher in terms of rolling game score to lose a game in the world series?"
   ]
  },
  {
   "cell_type": "markdown",
   "id": "transsexual-musical",
   "metadata": {},
   "source": [
    "## Who is the best team?\n",
    "### Part 1: The New York Yankees\n",
    "> Looking at the graph from our EDA <br>\n",
    "<img src=\"../../images/Team_VS_AverageRating.png\" width=\"600px\"/>    <img src=\"../../images/Team_VS_AverageARating.png\" width=\"600px\"/>\n",
    "\n",
    "Without any doubt it is easy to see that the New York Yankees (NYY) are by far the highest rated team playing at home and away, scoring an average rating of ~1538 which is aproximately 15% higher than the San Fransico Giants (SFG) the next highest rated team. However we can continue to dive deeper into the statistics, such as are the Yankees always good? Or did they just have an incredible stretch of time where they were heads and shoulders above everyone else?  By drawing from our EDA we can look at the rating of the NYY throughout there entire teams history.\n",
    "\n",
    "<img src=\"../../images/NYY_Rating.png\" />\n",
    "    \n",
    "The Red Line shows the 1500 mark or league average.  As the graph clearly shows, the NYY have consistently been one of the best teams in the league.  Once the team got over the initial starting hump almost every new team faces they only dipped below league average on two occations once from 1967-1968 and again from 1989-1992.  That means the Yankees have only been below average 6% of the time in the last 100 years.  This statistic also is representative in their championships, the Yankees as a team have won a whopping 27 world series rings, the most anyone has every won by far. Thus, the Yankees have historically been by far the best and most consistent team in baseball.\n",
    "    \n",
    "### Part 2: The Current Year\n",
    "  The New York Yankees have historically been the best team, however what team would claim that title now?  Has the best team still been the Yankees in the past 3 years?\n",
    "  \n",
    "  > Once again we can turn to out EDA to find out<br>\n",
    "  <img src=\"../../images/2020_Averages.png\" /><img src=\"../../images/2019_Averages.png\" /><img src=\"../../images/2018_Averages.png\" />\n",
    "  \n",
    "  The following three images show the average rating of each team from 2018-2020, and as it turns out the best team in the last 3 years has been The Houston Astros*, but with the rise of their cheating scandel I dont believe we can honestly call them the best team in the curretn year, thus I will remove them from the running.  This leaves the Dodgers, who remained in 3rd place every year, logically this makes sense as the Dodgers just won the world series and have clintched their division title every year for the past 8 years. Furthermore, they have averaged a 1553 rating in the past 3 years which is insane, and puts them far ahead of anyone in the lifetime graph up above.  I fully expect the Dodgers to continue their success into the next year as they are statistically the best team in baseball in the current year."
   ]
  },
  {
   "cell_type": "markdown",
   "id": "continued-digit",
   "metadata": {},
   "source": [
    "## What is the most/least competative league in 2020?\n",
    "### What was the competative league in 2020?\n",
    "To find the most compative league we have to look at the ratings of each team in each league.  The smaller the differences between each league the more competative the league should be. \n",
    "\n",
    "> The National League East<br>\n",
    "<img src=\"../../images/National_League_East.png\" />\n",
    "\n",
    "Now based purlely on the difference between each team, the NL East has 4 teams within striking distance of each other.  Furthermore, the top two teams in this league are practically overlapping, meaning this has the possibility to not only be a competative league but a fun league to watch as according to the statistics it is practically a coin toss to see if ATL and WSN will take the division title.  Furthermore, we can also see that the NYM are also making there way up the ladder as well creating even more competition for the 2021 season and beyond.\n",
    "\n",
    "### What was the least cometative league in 2020\n",
    "\n",
    "> Once again we can use our EDA which can show us The NL West<br>\n",
    "<img src=\"../../images/National_League_West.png\" />\n",
    "\n",
    "As show the National League West at first seems to be extremely competative as there are four teams with ratings that are basically overlapping one another. However, in the world of baseball it does not matter how close the teams are if there is one outlier since only one team can take the division title.  Therefore, since the Dodgers are basically out of everyones league they are all competeing for second place, which is not very fun.  Furthermore, history also tells us that this league is not very competative since the Dodgers have clitched 8 straight division titles."
   ]
  },
  {
   "cell_type": "markdown",
   "id": "neural-citation",
   "metadata": {},
   "source": [
    "## All other answers can be found in Levi's M2.ipynb"
   ]
  },
  {
   "cell_type": "code",
   "execution_count": null,
   "id": "committed-essex",
   "metadata": {},
   "outputs": [],
   "source": []
  }
 ],
 "metadata": {
  "kernelspec": {
   "display_name": "Python 3",
   "language": "python",
   "name": "python3"
  },
  "language_info": {
   "codemirror_mode": {
    "name": "ipython",
    "version": 3
   },
   "file_extension": ".py",
   "mimetype": "text/x-python",
   "name": "python",
   "nbconvert_exporter": "python",
   "pygments_lexer": "ipython3",
   "version": "3.8.5"
  }
 },
 "nbformat": 4,
 "nbformat_minor": 5
}

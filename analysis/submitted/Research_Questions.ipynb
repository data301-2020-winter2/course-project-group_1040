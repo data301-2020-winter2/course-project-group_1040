{
 "cells": [
  {
   "cell_type": "markdown",
   "metadata": {},
   "source": [
    "# Task 5: Conduct your analysis"
   ]
  },
  {
   "cell_type": "markdown",
   "metadata": {},
   "source": [
    "## Research Questions:\n",
    "- What is the best team at home?\n",
    "- What is the most competative league?\n",
    "- What is the most competative good league?\n",
    "- Who overcame the biggeset negative pitcher adjusted rating in comparison to his opponent to win a World Series?\n",
    "- Who had the biggest pitcher adjusted rating advantage in comparison to his opponent and wonn a World Series game?\n",
    "- Who was the worst pitcher in terms of rolling game score to win a game in the world series?\n",
    "- Who was the best pitcher in terms of rolling game score to lose a game in the world series?"
   ]
  },
  {
   "cell_type": "markdown",
   "metadata": {},
   "source": [
    "## Who is the best team at home?\n",
    "### Part 1: The New York Yankees\n",
    "> Looking at the graph from our EDA <br>\n",
    "<img src=\"../../images/Team_VS_AverageRating.png\" width=\"600px\"/>    <img src=\"../../images/Team_VS_AverageARating.png\" width=\"600px\"/>\n",
    "\n",
    "Without any doubt it is easy to see that the New York Yankees (NYY) are by far the highest rated team playing at home and away, scoring an average rating of ~1538 which is aproximately 15% higher than the San Fransico Giants (SFG) the next highest rated team. However we can continue to dive deeper into the statistics, such as are the Yankees always good? Or did they just have an incredible stretch of time where they were heads and shoulders above everyone else?  By drawing from our EDA we can look at the rating of the NYY throughout there entire teams history.\n",
    "\n",
    "<img src=\"../../images/NYY_Rating.png\" />\n",
    "    \n",
    "The Red Line shows the 1500 mark or league average.  As the graph clearly shows, the NYY have consistently been one of the best teams in the league.  Once the team got over the initial starting hump almost every new team faces they only dipped below league average on two occations once from 1967-1968 and again from 1989-1992.  That means the Yankees have only been below average 6% of the time in the last 100 years.  This statistic also is representative in there championships, with a whopping 27 rings, the Yankees have won the most world series by far.\n",
    "    \n",
    "### Part 2: The Current Year\n",
    "  The New York Yankees have historically been the best team, however what team would claim that title now?  Has the best team still been the Yankees in the past 5 years?\n",
    "  > Once again we can turn to out EDA to find out<br>\n",
    "  <img src=\"../../images/2020_Averages.png\" /><img src=\"../../images/2019_Averages.png\" /><img src=\"../../images/2018_Averages.png\" />\n",
    "  \n",
    "  The following three images show the average rating of each team from 2018-2020, and as it turns out the best team in the last 3 years has been The Houston Astros*, but with their latest scandel I will remove them from the running.  This leaves the Dodgers, you remained in 3rd place every year, logically this makes sense as the Dodgers just won the world series and have clintched their division title every year for the past 8 years. Therefore, the dodgers are currently the best team statistcally and championship wise"
   ]
  },
  {
   "cell_type": "markdown",
   "metadata": {},
   "source": [
    "## What is the most competative league?\n",
    "### What is competative?\n",
    "TO find "
   ]
  }
 ],
 "metadata": {
  "kernelspec": {
   "display_name": "Python 3",
   "language": "python",
   "name": "python3"
  },
  "language_info": {
   "codemirror_mode": {
    "name": "ipython",
    "version": 3
   },
   "file_extension": ".py",
   "mimetype": "text/x-python",
   "name": "python",
   "nbconvert_exporter": "python",
   "pygments_lexer": "ipython3",
   "version": "3.8.3"
  }
 },
 "nbformat": 4,
 "nbformat_minor": 5
}

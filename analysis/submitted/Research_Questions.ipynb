{
 "cells": [
  {
   "cell_type": "markdown",
   "metadata": {},
   "source": [
    "# Task 5: Conduct your analysis"
   ]
  },
  {
   "cell_type": "markdown",
   "metadata": {},
   "source": [
    "## Research Questions:\n",
    "- What is the best team at home?\n",
    "- What is the most competative league?\n",
    "- What is the least competative league?\n",
    "- Who overcame the biggeset negative pitcher adjusted rating in comparison to his opponent to win a World Series?\n",
    "- Who had the biggest pitcher adjusted rating advantage in comparison to his opponent and wonn a World Series game?\n",
    "- Who was the worst pitcher in terms of rolling game score to win a game in the world series?\n",
    "- Who was the best pitcher in terms of rolling game score to lose a game in the world series?"
   ]
  },
  {
   "cell_type": "markdown",
   "metadata": {},
   "source": [
    "## Who is the best team?\n",
    "### Part 1: The New York Yankees\n",
    "> Looking at the graph from our EDA <br>\n",
    "<img src=\"../../images/Team_VS_AverageRating.png\" width=\"600px\"/>    <img src=\"../../images/Team_VS_AverageARating.png\" width=\"600px\"/>\n",
    "\n",
    "Without any doubt it is easy to see that the New York Yankees (NYY) are by far the highest rated team playing at home and away, scoring an average rating of ~1538 which is aproximately 15% higher than the San Fransico Giants (SFG) the next highest rated team. However we can continue to dive deeper into the statistics, such as are the Yankees always good? Or did they just have an incredible stretch of time where they were heads and shoulders above everyone else?  By drawing from our EDA we can look at the rating of the NYY throughout there entire teams history.\n",
    "\n",
    "<img src=\"../../images/NYY_Rating.png\" />\n",
    "    \n",
    "The Red Line shows the 1500 mark or league average.  As the graph clearly shows, the NYY have consistently been one of the best teams in the league.  Once the team got over the initial starting hump almost every new team faces they only dipped below league average on two occations once from 1967-1968 and again from 1989-1992.  That means the Yankees have only been below average 6% of the time in the last 100 years.  This statistic also is representative in their championships, the Yankees as a team have won a whopping 27 world series rings, the most anyone has every won by far. Thus, the Yankees have historically been by far the best and most consistent team in baseball.\n",
    "    \n",
    "### Part 2: The Current Year\n",
    "  The New York Yankees have historically been the best team, however what team would claim that title now?  Has the best team still been the Yankees in the past 3 years?\n",
    "  \n",
    "  > Once again we can turn to out EDA to find out<br>\n",
    "  <img src=\"../../images/2020_Averages.png\" /><img src=\"../../images/2019_Averages.png\" /><img src=\"../../images/2018_Averages.png\" />\n",
    "  \n",
    "  The following three images show the average rating of each team from 2018-2020, and as it turns out the best team in the last 3 years has been The Houston Astros*, but with the rise of their cheating scandel I dont believe we can honestly call them the best team in the curretn year, thus I will remove them from the running.  This leaves the Dodgers, who remained in 3rd place every year, logically this makes sense as the Dodgers just won the world series and have clintched their division title every year for the past 8 years. Furthermore, they have averaged a 1553 rating in the past 3 years which is insane, and puts them far ahead of anyone in the lifetime graph up above.  I fully expect the Dodgers to continue their success into the next year as they are statistically the best team in baseball in the current year."
   ]
  },
  {
   "cell_type": "markdown",
   "metadata": {},
   "source": [
    "## What is the most/least competative league in 2020?\n",
    "### What was the competative league in 2020?\n",
    "To find the most compative league we have to look at the ratings of each team in each league.  The smaller the differences between each league the more competative the league should be. \n",
    "\n",
    "> The National League East<br>\n",
    "<img src=\"../../images/National_League_East.png\" />\n",
    "\n",
    "Now based purlely on the difference between each team, the NL East has 4 teams within striking distance of each other.  Furthermore, the top two teams in this league are practically overlapping, meaning this has the possibility to not only be a competative league but a fun league to watch as according to the statistics it is practically a coin toss to see if ATL and WSN will take the division title.  Furthermore, we can also see that the NYM are also making there way up the ladder as well creating even more competition for the 2021 season and beyond.\n",
    "\n",
    "### What was the least cometative league in 2020\n",
    "\n",
    "> Once again we can use our EDA which can show us The NL West<br>\n",
    "<img src=\"../../images/National_League_West.png\" />\n",
    "\n",
    "As show the National League West at first seems to be extremely competative as there are four teams with ratings that are basically overlapping one another. However, in the world of baseball it does not matter how close the teams are if there is one outlier since only one team can take the division title.  Therefore, since the Dodgers are basically out of everyones league they are all competeing for second place, which is not very fun.  Furthermore, history also tells us that this league is not very competative since the Dodgers have clitched 8 straight division titles."
   ]
  },
  {
   "cell_type": "markdown",
   "metadata": {},
   "source": [
    "## The largest negative differential in pitcher adjusted ratings to win a World Series Game \n",
    "### Barry Zito (SFG) vs Justin Verlander (DET)\n",
    "\n",
    "Barry Zito came into this game with an adjusted pitcher rating of -14.777 while Justin Verlander who was one of the best pitchers of his generation entered the game with a rating of 40.35. Verlander was the better pitcher while Zito probably shouldn't have been pitching this game. Despite the odds Zito came away with a 5 run victory winning the game 8-3.\n",
    "\n",
    "## The 2nd largest differential that was overcome\n",
    "### Kevin Brown (SDP) vs Andy Pettitte (NYY)\n",
    "The San Diego Padre's Kevin Brown was an above average strter while Andy Pettitte with an adjusted rating of 12.389 was most often in over his head and gave his to an adjusted rating of -20.116. The Padres failed to capitilize on the pitching at all getting shutout 3-0.\n",
    "\n",
    "\n",
    "## The biggest positive differential in pitcher adjusted ratings was won by cheaters! \n",
    "### Joe Ross (WSN) vs Gerrit Cole (HOU)\n",
    "\n",
    "The 2019 Houston Astros used cameras to steal signs and signal the Astro's pitcher for when a change-up would be pitched, a change-up is often considered easy to hit as they are much slower giving the batter more time to line up the ball. So while they do go down in the record books as having overcome the biggeset difference in pitcher adjusted ratings to their team, there is a **HUGE** asteriks on that game. The Houston Astros pitcher for this game.  \n",
    "\n",
    "That being said their pitcher Gerrit Cole is a fantistic pitcher and had an adjusted pitcher rating of 47.888, while his opponent Joe Ross was not an amzing pitcher having an adusted pitcher rating of -29.811 and going up against a team of cheaters probably did not help his cause. This game wasn't close as the Astros were able to put up 2 runs in the 2nd inning and another 2 in the 4th inning sealing the game as the Nationals were not able to get any offense going against the dominant Cole.\n",
    "\n",
    "![Astros.png](attachment:ef42e6eb-3a2f-412a-950d-bb62911f08c8.png)\n",
    "\n",
    "## The 2nd biggest postivive difference in adjusted pitcher ratings \n",
    "\n",
    "This game came quite rcently as well, when the Chicago White Sox won a game 7 - 2 with a a difference of pitcher adjusted ratings of 44.58, this falls well short of the cheating Astros who had a pitcher difference of 77.699.\n"
   ]
  },
  {
   "cell_type": "code",
   "execution_count": 3,
   "metadata": {},
   "outputs": [
    {
     "name": "stdout",
     "output_type": "stream",
     "text": [
      "     Unnamed: 0        date  season home_team away_team home_pitcher  \\\n",
      "371       45294   11/3/2001    2001       ARI       NYY     johnr005   \n",
      "34        59742  10/21/1995    1995       ATL       CLE     maddg002   \n",
      "378       45298  10/28/2001    2001       ARI       NYY     johnr005   \n",
      "150      114458   10/6/1968    1968       DET       STL     mclad101   \n",
      "122      119333  10/14/1965    1965       MIN       LAD     kaatj101   \n",
      "..          ...         ...     ...       ...       ...          ...   \n",
      "470      106717  10/20/1972    1972       OAK       CIN     huntj101   \n",
      "454      166996   10/7/1928    1928       STL       NYY     hainj101   \n",
      "67       122598   10/3/1963    1963       NYY       LAD     downa101   \n",
      "309      100855  10/12/1975    1975       BOS       CIN     lee-b101   \n",
      "369       92554  10/14/1979    1979       PIT       BAL     rookj101   \n",
      "\n",
      "      away_pitcher  home_pitcher_rgs  away_pitcher_rgs  home_score  \\\n",
      "371  Andy Pettitte            69.536            54.120          15   \n",
      "34        herso001            69.215            58.384           3   \n",
      "378  Andy Pettitte            68.325            53.618           4   \n",
      "150       gibsb101            58.493            67.392           1   \n",
      "122       koufs101            49.581            67.166           0   \n",
      "..             ...               ...               ...         ...   \n",
      "470       mcglj101            59.575            45.576           4   \n",
      "454       zacht101            56.591            45.297           3   \n",
      "67        podrj101            56.889            44.988           1   \n",
      "309       billj101            49.809            44.824           2   \n",
      "369       flanm001            44.814            57.328           7   \n",
      "\n",
      "     away_score  compare_score  home_win  away_win  win_pitch_rgs  \\\n",
      "371           2             13      True     False         69.536   \n",
      "34            2              1      True     False         69.215   \n",
      "378           0              4      True     False         68.325   \n",
      "150          10             -9     False      True         67.392   \n",
      "122           2             -2     False      True         67.166   \n",
      "..          ...            ...       ...       ...            ...   \n",
      "470           5             -1     False      True         45.576   \n",
      "454           7             -4     False      True         45.297   \n",
      "67            4             -3     False      True         44.988   \n",
      "309           3             -1     False      True         44.824   \n",
      "369           1              6      True     False         44.814   \n",
      "\n",
      "     lose_pitch_rgs  \n",
      "371          54.120  \n",
      "34           58.384  \n",
      "378          53.618  \n",
      "150          58.493  \n",
      "122          49.581  \n",
      "..              ...  \n",
      "470          59.575  \n",
      "454          56.591  \n",
      "67           56.889  \n",
      "309          49.809  \n",
      "369          57.328  \n",
      "\n",
      "[623 rows x 16 columns]\n"
     ]
    }
   ],
   "source": [
    "import pandas as pd\n",
    "import numpy as np\n",
    "df5 = pd.read_csv(\"../../data/processed/ws_pitcher_adj_difference.csv\")\n",
    "df6 = df5.drop([\"home_pitcher_rating\", \"away_pitcher_rating\", \"win_pitch_adj\", \"pitcher_difference\"], axis=\"columns\")\n",
    "\n",
    "\n",
    "win_pitch = np.where(df6[\"home_win\"] == True, (df5[\"home_pitcher_rgs\"]), (df5[\"away_pitcher_rgs\"]))\n",
    "df6[\"win_pitch_rgs\"] = win_pitch\n",
    "\n",
    "lose_pitch = np.where(df6[\"away_win\"] == True, (df5[\"home_pitcher_rgs\"]), (df5[\"away_pitcher_rgs\"]))\n",
    "df6[\"lose_pitch_rgs\"] = lose_pitch\n",
    "\n",
    "df6 = df6.sort_values(by=\"win_pitch_rgs\", ascending = False)\n",
    "print(df6)"
   ]
  },
  {
   "cell_type": "markdown",
   "metadata": {},
   "source": [
    "## Jim Rooker\n",
    "Jim Rooker entered this game on October 14th, 1979 with a rolling game score of 44.814, if he won this game he would go down as the new leader for worst pitcher to win a world series game.\n",
    "The record holder before Jim Rooker, was held by Jack Billingham and he set the record 4 years prior to Rooker taking the mound that fateful Sunday. He pitched well and only surrendured 1 run on 3 hits. His counterpart did not fare so well and the Pirates ccruised to a 7-1 victory for game 5, taking a 3-2 lead in the series.\n",
    "![Screenshot (78).png](attachment:5dd6d3b9-05f3-46b3-9ee4-666799caaeaa.png)\n",
    "![Screenshot (78)-2.png](attachment:5d4ae3ec-5b24-43b5-afce-74c5b46b47d2.png)"
   ]
  },
  {
   "cell_type": "markdown",
   "metadata": {},
   "source": [
    "## Now to find the best pitcher in terms of rolling game score to lose a game in the World Series"
   ]
  },
  {
   "cell_type": "code",
   "execution_count": 5,
   "metadata": {},
   "outputs": [
    {
     "name": "stdout",
     "output_type": "stream",
     "text": [
      "     Unnamed: 0        date  season home_team away_team home_pitcher  \\\n",
      "585       59738  10/26/1995    1995       CLE       ATL     herso001   \n",
      "616         957  10/22/2019    2019       HOU       WSN  Gerrit Cole   \n",
      "438      114455  10/10/1968    1968       STL       DET     gibsb101   \n",
      "579       52679  10/17/1998    1998       NYY       SDP     welld001   \n",
      "478      119338   10/7/1965    1965       MIN       LAD     kaatj101   \n",
      "..          ...         ...     ...       ...       ...          ...   \n",
      "430      163280   10/7/1931    1931       OAK       STL     hoytw101   \n",
      "574       82646  10/13/1984    1984       DET       SDP     morrj001   \n",
      "273       45297  10/30/2001    2001       NYY       ARI     clemr001   \n",
      "264       78402  10/22/1986    1986       BOS       NYM     nippa001   \n",
      "563      143450   10/4/1947    1947       LAD       NYY     barnr103   \n",
      "\n",
      "     away_pitcher  home_pitcher_rgs  away_pitcher_rgs  home_score  away_score  \\\n",
      "585      maddg002            58.477            70.266           5           4   \n",
      "616  Max Scherzer            67.997            61.808           4           5   \n",
      "438      lolim101            67.782            53.445           1           4   \n",
      "579      browk001            61.473            67.444           9           6   \n",
      "478      koufs101            49.444            66.595           5           1   \n",
      "..            ...               ...               ...         ...         ...   \n",
      "430      hallb104            46.379            56.318           1           5   \n",
      "574      showe001            54.434            46.341           4           2   \n",
      "273      andeb002            58.138            45.241           2           1   \n",
      "264      darlr001            45.106            54.838           2           6   \n",
      "563      sheas101            42.575            53.353           1           2   \n",
      "\n",
      "     compare_score  home_win  away_win  win_pitch_rgs  lose_pitch_rgs  \n",
      "585              1      True     False         58.477          70.266  \n",
      "616             -1     False      True         61.808          67.997  \n",
      "438             -3     False      True         53.445          67.782  \n",
      "579              3      True     False         61.473          67.444  \n",
      "478              4      True     False         49.444          66.595  \n",
      "..             ...       ...       ...            ...             ...  \n",
      "430             -4     False      True         56.318          46.379  \n",
      "574              2      True     False         54.434          46.341  \n",
      "273              1      True     False         58.138          45.241  \n",
      "264             -4     False      True         54.838          45.106  \n",
      "563             -1     False      True         53.353          42.575  \n",
      "\n",
      "[623 rows x 16 columns]\n"
     ]
    }
   ],
   "source": [
    "df6 = df6.sort_values(by=\"lose_pitch_rgs\", ascending = False)\n",
    "print(df6)"
   ]
  },
  {
   "cell_type": "markdown",
   "metadata": {},
   "source": [
    "## The best pitcher in terms of rolling game Score to lose a game in the World Series is\n",
    "### Orel Leonard Hershiser IV - Cleveland Indians\n",
    "Orel had an oustanding rgs of 70.266, which is the highest rolling game score to enter a World Series Game. Orel was one of the best pitchers of the year potentially ever, and he lost when it matteres most.\n",
    "The Cleveland Indians entered game 5 tied 2-2 against the Atlanta Braves with the best pitcher to ever take the mound in a World Series Game. It didn't matter, The Indians lost game 5 by a score of 5-4 and would go on to lose game 6 and the Championship."
   ]
  },
  {
   "cell_type": "code",
   "execution_count": 6,
   "metadata": {},
   "outputs": [
    {
     "name": "stderr",
     "output_type": "stream",
     "text": [
      "'[gettyimages-51686211-594x594-1.jpg]' is not recognized as an internal or external command,\n",
      "operable program or batch file.\n"
     ]
    }
   ],
   "source": [
    "![gettyimages-51686211-594x594-1.jpg](attachment:606a9633-4a6e-4359-9f0e-6803622b23a6.jpg)"
   ]
  },
  {
   "cell_type": "code",
   "execution_count": null,
   "metadata": {},
   "outputs": [],
   "source": []
  }
 ],
 "metadata": {
  "kernelspec": {
   "display_name": "Python 3",
   "language": "python",
   "name": "python3"
  },
  "language_info": {
   "codemirror_mode": {
    "name": "ipython",
    "version": 3
   },
   "file_extension": ".py",
   "mimetype": "text/x-python",
   "name": "python",
   "nbconvert_exporter": "python",
   "pygments_lexer": "ipython3",
   "version": "3.8.3"
  }
 },
 "nbformat": 4,
 "nbformat_minor": 5
}

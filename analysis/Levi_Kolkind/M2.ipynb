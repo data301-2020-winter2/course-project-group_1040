{
 "cells": [
  {
   "cell_type": "code",
   "execution_count": 6,
   "metadata": {},
   "outputs": [],
   "source": [
    "import pandas as pd\n",
    "import sys, os\n",
    "import numpy as np\n",
    "import matplotlib.pyplot as plt\n",
    "import seaborn as sns\n",
    "\n",
    "\n",
    "module_path = os.path.abspath(os.path.join('..'))\n",
    "if module_path not in sys.path:\n",
    "    sys.path.append(module_path)\n",
    "from scripts import project_functions_Levi\n",
    "\n",
    "df = project_functions_Levi.load_and_process('../../data/raw/mlb_elo.csv')\n",
    "\n"
   ]
  },
  {
   "cell_type": "code",
   "execution_count": 23,
   "metadata": {},
   "outputs": [
    {
     "name": "stdout",
     "output_type": "stream",
     "text": [
      "7.555717520725439\n",
      "              date  season playoff home_team away_team    home_pitcher  \\\n",
      "0       10/27/2020    2020       w       LAD       TBD   Tony Gonsolin   \n",
      "1       10/25/2020    2020       w       TBD       LAD   Tyler Glasnow   \n",
      "2       10/24/2020    2020       w       TBD       LAD  Ryan Yarbrough   \n",
      "3       10/23/2020    2020       w       TBD       LAD  Charlie Morton   \n",
      "4       10/21/2020    2020       w       LAD       TBD   Tony Gonsolin   \n",
      "...            ...     ...     ...       ...       ...             ...   \n",
      "185307  10/11/1913    1913       w       SFG       OAK        mathc102   \n",
      "185308  10/10/1913    1913       w       OAK       SFG        bendc101   \n",
      "185309   10/9/1913    1913       w       SFG       OAK        tesrj101   \n",
      "185310   10/8/1913    1913       w       OAK       SFG        plane101   \n",
      "185311   10/7/1913    1913       w       SFG       OAK        marqr102   \n",
      "\n",
      "           away_pitcher home_pitcher_rating away_pitcher_rating  home_score  \\\n",
      "0           Blake Snell               7.996                6.04           3   \n",
      "1       Clayton Kershaw              -1.827              23.114           2   \n",
      "2           Julio Urias               -3.96              -6.205           8   \n",
      "3        Walker Buehler              20.547              18.098           2   \n",
      "4           Blake Snell              13.013                4.01           4   \n",
      "...                 ...                 ...                 ...         ...   \n",
      "185307         plane101               4.116              10.951           1   \n",
      "185308         demaa101              10.951               4.116           6   \n",
      "185309         bushj102               4.116              10.951           2   \n",
      "185310         mathc102              10.951               4.116           0   \n",
      "185311         bendc101               4.116              10.951           4   \n",
      "\n",
      "        away_score  compare_score compare_pitchers  home_win  away_win  \\\n",
      "0                1              2            1.956      True     False   \n",
      "1                4             -2          -24.941     False      True   \n",
      "2                7              1            2.245      True     False   \n",
      "3                6             -4            2.449     False      True   \n",
      "4                6             -2            9.003     False      True   \n",
      "...            ...            ...              ...       ...       ...   \n",
      "185307           3             -2           -6.835     False      True   \n",
      "185308           5              1            6.835      True     False   \n",
      "185309           8             -6           -6.835     False      True   \n",
      "185310           3             -3            6.835     False      True   \n",
      "185311           6             -2           -6.835     False      True   \n",
      "\n",
      "       win_pitch_adj pitcher_difference  \n",
      "0              7.996              1.956  \n",
      "1             23.114             24.941  \n",
      "2              -3.96              2.245  \n",
      "3             18.098             -2.449  \n",
      "4               4.01             -9.003  \n",
      "...              ...                ...  \n",
      "185307        10.951              6.835  \n",
      "185308        10.951              6.835  \n",
      "185309        10.951              6.835  \n",
      "185310         4.116             -6.835  \n",
      "185311        10.951              6.835  \n",
      "\n",
      "[623 rows x 17 columns]\n"
     ]
    }
   ],
   "source": [
    "#all world series games in sorted by winning teams pitcher1 from worst to best\n",
    "\n",
    "df = project_functions_Levi.load_and_process('../../data/raw/mlb_elo.csv')\n",
    "df3 = df[(df[\"playoff\"] == \"w\") ]\n",
    "df4 = df3.drop([\"neutral\", \"home_prob\", \"away_prob\", \"home_post\", \"away_post\", \"home_pre\", \"away_pre\"], axis=\"columns\")\n",
    "df4 = df4[(df4[\"home_pitcher_rating\"] != \"s\") ]\n",
    "\n",
    "\n",
    "# subtract away score from home score to find winner if positive home = winner\n",
    "# subtrract away pitcher2_adj from pitcher1_adj to find better pitcher\n",
    "\n",
    "score = df4[\"home_score\"] - df4[\"away_score\"]\n",
    "\n",
    "df4[\"compare_score\"] = score\n",
    "\n",
    "#need to drop home_pitcher_rating & away_pitcher_rating with \"s\"\n",
    "\n",
    "df4 = df4[(df4[\"home_pitcher_rating\"] != \"s\") ]\n",
    "comp_pitcher = df4[\"home_pitcher_rating\"] - df4[\"away_pitcher_rating\"]\n",
    "\n",
    "df4[\"compare_pitchers\"] = comp_pitcher\n",
    "\n",
    "df4[\"home_win\"] = np.where(df4[\"compare_score\"] > 0, True, False)\n",
    "df4[\"away_win\"] = np.where(df4[\"compare_score\"] < 0, True, False)\n",
    "\n",
    "win_pitch = np.where(df4[\"home_win\"] == True, (df4[\"home_pitcher_rating\"]), (df4[\"away_pitcher_rating\"]))\n",
    "df4[\"win_pitch_adj\"] = win_pitch\n",
    "\n",
    "#make function to compare winner of game with differnce in pitcher ratings\n",
    "df4[\"pitcher_difference\"] = np.where(df4[\"home_win\"] == True, (df4[\"compare_pitchers\"]), (df4[\"compare_pitchers\"] * -1))\n",
    "\n",
    "# Find mean of winning pitcher\n",
    "win_pitch_mean = df4[\"win_pitch_adj\"].mean()\n",
    "win_pitch_std = df4[\"win_pitch_adj\"].std()\n",
    "\n",
    "\n",
    "\n",
    "\n",
    "print(win_pitch_std)\n",
    "\n",
    "# sort win_difference by smallest to largest\n",
    "\n",
    "print(df4)\n"
   ]
  },
  {
   "cell_type": "markdown",
   "metadata": {},
   "source": [
    "# Describing the dataset\n",
    "\n",
    "- Who\n",
    "- What\n",
    "- Where\n",
    "- When\n",
    "- How\n",
    "- Why"
   ]
  },
  {
   "cell_type": "code",
   "execution_count": 22,
   "metadata": {},
   "outputs": [
    {
     "ename": "TypeError",
     "evalue": "'<=' not supported between instances of 'int' and 'numpy.str_'",
     "output_type": "error",
     "traceback": [
      "\u001b[1;31m---------------------------------------------------------------------------\u001b[0m",
      "\u001b[1;31mTypeError\u001b[0m                                 Traceback (most recent call last)",
      "\u001b[1;32m<ipython-input-22-c72ee388e1d3>\u001b[0m in \u001b[0;36m<module>\u001b[1;34m\u001b[0m\n\u001b[0;32m      1\u001b[0m \u001b[1;31m# df.describe(include='all')\u001b[0m\u001b[1;33m\u001b[0m\u001b[1;33m\u001b[0m\u001b[1;33m\u001b[0m\u001b[0m\n\u001b[1;32m----> 2\u001b[1;33m \u001b[0mdf4\u001b[0m\u001b[1;33m.\u001b[0m\u001b[0mdescribe\u001b[0m\u001b[1;33m(\u001b[0m\u001b[1;34m\"win_pitch_adj\"\u001b[0m\u001b[1;33m)\u001b[0m\u001b[1;33m\u001b[0m\u001b[1;33m\u001b[0m\u001b[0m\n\u001b[0m",
      "\u001b[1;32m~\\miniconda3\\lib\\site-packages\\pandas\\core\\generic.py\u001b[0m in \u001b[0;36mdescribe\u001b[1;34m(self, percentiles, include, exclude, datetime_is_numeric)\u001b[0m\n\u001b[0;32m   9979\u001b[0m \u001b[1;33m\u001b[0m\u001b[0m\n\u001b[0;32m   9980\u001b[0m             \u001b[1;31m# get them all to be in [0, 1]\u001b[0m\u001b[1;33m\u001b[0m\u001b[1;33m\u001b[0m\u001b[1;33m\u001b[0m\u001b[0m\n\u001b[1;32m-> 9981\u001b[1;33m             \u001b[0mvalidate_percentile\u001b[0m\u001b[1;33m(\u001b[0m\u001b[0mpercentiles\u001b[0m\u001b[1;33m)\u001b[0m\u001b[1;33m\u001b[0m\u001b[1;33m\u001b[0m\u001b[0m\n\u001b[0m\u001b[0;32m   9982\u001b[0m \u001b[1;33m\u001b[0m\u001b[0m\n\u001b[0;32m   9983\u001b[0m             \u001b[1;31m# median should always be included\u001b[0m\u001b[1;33m\u001b[0m\u001b[1;33m\u001b[0m\u001b[1;33m\u001b[0m\u001b[0m\n",
      "\u001b[1;32m~\\miniconda3\\lib\\site-packages\\pandas\\util\\_validators.py\u001b[0m in \u001b[0;36mvalidate_percentile\u001b[1;34m(q)\u001b[0m\n\u001b[0;32m    379\u001b[0m             \u001b[1;32mraise\u001b[0m \u001b[0mValueError\u001b[0m\u001b[1;33m(\u001b[0m\u001b[0mmsg\u001b[0m\u001b[1;33m.\u001b[0m\u001b[0mformat\u001b[0m\u001b[1;33m(\u001b[0m\u001b[0mq_arr\u001b[0m \u001b[1;33m/\u001b[0m \u001b[1;36m100.0\u001b[0m\u001b[1;33m)\u001b[0m\u001b[1;33m)\u001b[0m\u001b[1;33m\u001b[0m\u001b[1;33m\u001b[0m\u001b[0m\n\u001b[0;32m    380\u001b[0m     \u001b[1;32melse\u001b[0m\u001b[1;33m:\u001b[0m\u001b[1;33m\u001b[0m\u001b[1;33m\u001b[0m\u001b[0m\n\u001b[1;32m--> 381\u001b[1;33m         \u001b[1;32mif\u001b[0m \u001b[1;32mnot\u001b[0m \u001b[0mall\u001b[0m\u001b[1;33m(\u001b[0m\u001b[1;36m0\u001b[0m \u001b[1;33m<=\u001b[0m \u001b[0mqs\u001b[0m \u001b[1;33m<=\u001b[0m \u001b[1;36m1\u001b[0m \u001b[1;32mfor\u001b[0m \u001b[0mqs\u001b[0m \u001b[1;32min\u001b[0m \u001b[0mq_arr\u001b[0m\u001b[1;33m)\u001b[0m\u001b[1;33m:\u001b[0m\u001b[1;33m\u001b[0m\u001b[1;33m\u001b[0m\u001b[0m\n\u001b[0m\u001b[0;32m    382\u001b[0m             \u001b[1;32mraise\u001b[0m \u001b[0mValueError\u001b[0m\u001b[1;33m(\u001b[0m\u001b[0mmsg\u001b[0m\u001b[1;33m.\u001b[0m\u001b[0mformat\u001b[0m\u001b[1;33m(\u001b[0m\u001b[0mq_arr\u001b[0m \u001b[1;33m/\u001b[0m \u001b[1;36m100.0\u001b[0m\u001b[1;33m)\u001b[0m\u001b[1;33m)\u001b[0m\u001b[1;33m\u001b[0m\u001b[1;33m\u001b[0m\u001b[0m\n\u001b[0;32m    383\u001b[0m     \u001b[1;32mreturn\u001b[0m \u001b[0mq_arr\u001b[0m\u001b[1;33m\u001b[0m\u001b[1;33m\u001b[0m\u001b[0m\n",
      "\u001b[1;32m~\\miniconda3\\lib\\site-packages\\pandas\\util\\_validators.py\u001b[0m in \u001b[0;36m<genexpr>\u001b[1;34m(.0)\u001b[0m\n\u001b[0;32m    379\u001b[0m             \u001b[1;32mraise\u001b[0m \u001b[0mValueError\u001b[0m\u001b[1;33m(\u001b[0m\u001b[0mmsg\u001b[0m\u001b[1;33m.\u001b[0m\u001b[0mformat\u001b[0m\u001b[1;33m(\u001b[0m\u001b[0mq_arr\u001b[0m \u001b[1;33m/\u001b[0m \u001b[1;36m100.0\u001b[0m\u001b[1;33m)\u001b[0m\u001b[1;33m)\u001b[0m\u001b[1;33m\u001b[0m\u001b[1;33m\u001b[0m\u001b[0m\n\u001b[0;32m    380\u001b[0m     \u001b[1;32melse\u001b[0m\u001b[1;33m:\u001b[0m\u001b[1;33m\u001b[0m\u001b[1;33m\u001b[0m\u001b[0m\n\u001b[1;32m--> 381\u001b[1;33m         \u001b[1;32mif\u001b[0m \u001b[1;32mnot\u001b[0m \u001b[0mall\u001b[0m\u001b[1;33m(\u001b[0m\u001b[1;36m0\u001b[0m \u001b[1;33m<=\u001b[0m \u001b[0mqs\u001b[0m \u001b[1;33m<=\u001b[0m \u001b[1;36m1\u001b[0m \u001b[1;32mfor\u001b[0m \u001b[0mqs\u001b[0m \u001b[1;32min\u001b[0m \u001b[0mq_arr\u001b[0m\u001b[1;33m)\u001b[0m\u001b[1;33m:\u001b[0m\u001b[1;33m\u001b[0m\u001b[1;33m\u001b[0m\u001b[0m\n\u001b[0m\u001b[0;32m    382\u001b[0m             \u001b[1;32mraise\u001b[0m \u001b[0mValueError\u001b[0m\u001b[1;33m(\u001b[0m\u001b[0mmsg\u001b[0m\u001b[1;33m.\u001b[0m\u001b[0mformat\u001b[0m\u001b[1;33m(\u001b[0m\u001b[0mq_arr\u001b[0m \u001b[1;33m/\u001b[0m \u001b[1;36m100.0\u001b[0m\u001b[1;33m)\u001b[0m\u001b[1;33m)\u001b[0m\u001b[1;33m\u001b[0m\u001b[1;33m\u001b[0m\u001b[0m\n\u001b[0;32m    383\u001b[0m     \u001b[1;32mreturn\u001b[0m \u001b[0mq_arr\u001b[0m\u001b[1;33m\u001b[0m\u001b[1;33m\u001b[0m\u001b[0m\n",
      "\u001b[1;31mTypeError\u001b[0m: '<=' not supported between instances of 'int' and 'numpy.str_'"
     ]
    }
   ],
   "source": [
    "# df.describe(include='all')\n",
    "df4.describe(\"win_pitch_adj\")"
   ]
  },
  {
   "cell_type": "markdown",
   "metadata": {},
   "source": [
    "## First Things First\n",
    "\n",
    "### Let's isolate the data to only include world series games\n",
    "\n",
    ">When doing this the Home and away starting pitcher's adjustment to their team's rating before 1913 were not tracked so that data will removed\n",
    "\n",
    ">we will narrow down the selected games using the above criteria with the following code"
   ]
  },
  {
   "cell_type": "markdown",
   "metadata": {},
   "source": [
    "### This code is used earlier but just shown now\n",
    "\n",
    "df3 = df[(df[\"playoff\"] == \"w\") ]  \n",
    "df4 = df4.drop([\"neutral\", \"home_prob\", \"away_prob\", \"home_post\", \"away_post\", \"home_pre\", \"away_pre\"], axis=\"columns\")  \n",
    "df4 = df4[(df4[\"home_pitcher_rating\"] != \"s\") ] \n",
    "\n",
    "print(df4)\n",
    "\n"
   ]
  },
  {
   "cell_type": "markdown",
   "metadata": {},
   "source": [
    "## Part 2\n",
    "\n",
    "> Here we will show the average pitcher's adjustment to the team rating for those that won the game. A positive number means that the pitcher provides a boost to their team, while a negativ number indicates their team has to overcome some bad pitching to win\n"
   ]
  },
  {
   "cell_type": "code",
   "execution_count": 9,
   "metadata": {},
   "outputs": [
    {
     "data": {
      "image/png": "[encoded data removed]",
      "text/plain": [
       "<Figure size 432x288 with 1 Axes>"
      ]
     },
     "metadata": {
      "needs_background": "light"
     },
     "output_type": "display_data"
    }
   ],
   "source": [
    "#plot the win_pitch_adj here data points here\n",
    "\n",
    "df4.plot(kind='scatter',x=\"win_pitch_adj\",y=\"win_pitch_adj\",color='red')\n",
    "plt.show()"
   ]
  },
  {
   "cell_type": "markdown",
   "metadata": {},
   "source": [
    ">as you can see the majority of the teams to win have pitchers who have a positive impact on their team\n",
    ">we are not interested in those pitchers, we want to find the worst adjusted pitcher rating to win a World series game. That dot is way in the bottom left\n",
    ">next we will show the biggest difference bewteen the starting pitchers adjustment to their team and find which overcame the biggest gap to win"
   ]
  },
  {
   "cell_type": "code",
   "execution_count": null,
   "metadata": {},
   "outputs": [],
   "source": [
    "labels = [\"less than -50\", \"between -40 and -50\", \"between -30 and -40\", \"between -20 and -30\", \"between -10 and -5\", \"between -5 and 0\", \"between 0 and 5\", \"between 5 and 10\", \"between 10 and 20\", \"between 20 and 30\", \"between 30 and 40\", \"between 40 and 50\", \"greater than 50\",]\n",
    "\n",
    "# need to find way to count if pitcher is in value range\n",
    "\n",
    "\n"
   ]
  },
  {
   "cell_type": "code",
   "execution_count": 10,
   "metadata": {},
   "outputs": [
    {
     "data": {
      "image/png": "[encoded data removed]",
      "text/plain": [
       "<Figure size 432x288 with 1 Axes>"
      ]
     },
     "metadata": {
      "needs_background": "light"
     },
     "output_type": "display_data"
    }
   ],
   "source": [
    "df4.plot(kind='scatter',x=\"pitcher_difference\",y=\"win_pitch_adj\",color='red')\n",
    "plt.show()"
   ]
  },
  {
   "cell_type": "markdown",
   "metadata": {},
   "source": [
    "## Now this is getting a little more intersting\n",
    "\n",
    "as you can see the majority have an advantage in their pitchers adjustment to their team vs the opponents pitcher. The top right has teams with great pitching vs opponents whose pitching puts them at a disadvantage so it's no surprise that the majority of these are above 0 in pitcher difference.\n",
    "Once again those guys are the norm and not that interesting, the more intersting cases are the ones furthest to bottom left. The furthest left is the biggesest penalty in adjusted pitcher ratings to win a World Series Game.\n",
    "\n",
    "> Using the following code we can sort by that difference to find that game"
   ]
  },
  {
   "cell_type": "code",
   "execution_count": 18,
   "metadata": {},
   "outputs": [
    {
     "name": "stdout",
     "output_type": "stream",
     "text": [
      "             date  season home_team away_team    home_pitcher  \\\n",
      "18211  10/24/2012    2012       SFG       DET      Barry Zito   \n",
      "52676  10/21/1998    1998       SDP       NYY        browk001   \n",
      "30524  10/28/2007    2007       COL       BOS        cooka002   \n",
      "8353   10/28/2016    2016       CHC       CLE  Kyle Hendricks   \n",
      "5882   10/31/2017    2017       LAD       HOU       Rich Hill   \n",
      "...           ...     ...       ...       ...             ...   \n",
      "3421   10/23/2018    2018       BOS       LAD      Chris Sale   \n",
      "8351   10/30/2016    2016       CHC       CLE      Jon Lester   \n",
      "25606   11/1/2009    2009       PHI       NYY     Joe Blanton   \n",
      "8352   10/29/2016    2016       CHC       CLE     John Lackey   \n",
      "953    10/27/2019    2019       WSN       HOU        Joe Ross   \n",
      "\n",
      "           away_pitcher home_pitcher_rating away_pitcher_rating  home_score  \\\n",
      "18211  Justin Verlander             -14.777               40.35           8   \n",
      "52676     Andy Pettitte              12.389             -20.116           0   \n",
      "30524        Jon Lester               2.778             -27.636           3   \n",
      "8353        Josh Tomlin              18.007              -11.98           0   \n",
      "5882   Justin Verlander              16.898              42.748           3   \n",
      "...                 ...                 ...                 ...         ...   \n",
      "3421    Clayton Kershaw              50.166              14.184           8   \n",
      "8351       Trevor Bauer              21.518             -17.293           3   \n",
      "25606       CC Sabathia              -1.405              42.925           4   \n",
      "8352       Corey Kluber              -6.254              38.326           2   \n",
      "953         Gerrit Cole             -29.811              47.888           1   \n",
      "\n",
      "       away_score  compare_score  home_win  away_win win_pitch_adj  \\\n",
      "18211           3              5      True     False       -14.777   \n",
      "52676           3             -3     False      True       -20.116   \n",
      "30524           4             -1     False      True       -27.636   \n",
      "8353            1             -1     False      True        -11.98   \n",
      "5882            1              2      True     False        16.898   \n",
      "...           ...            ...       ...       ...           ...   \n",
      "3421            4              4      True     False        50.166   \n",
      "8351            2              1      True     False        21.518   \n",
      "25606           7             -3     False      True        42.925   \n",
      "8352            7             -5     False      True        38.326   \n",
      "953             7             -6     False      True        47.888   \n",
      "\n",
      "      pitcher_difference  \n",
      "18211            -55.127  \n",
      "52676            -32.505  \n",
      "30524            -30.414  \n",
      "8353             -29.987  \n",
      "5882              -25.85  \n",
      "...                  ...  \n",
      "3421              35.982  \n",
      "8351              38.811  \n",
      "25606              44.33  \n",
      "8352               44.58  \n",
      "953               77.699  \n",
      "\n",
      "[623 rows x 15 columns]\n"
     ]
    }
   ],
   "source": [
    "df5 = df4.sort_values(by=\"pitcher_difference\", ascending = True)\n",
    "df5 = df5.drop([\"compare_pitchers\", \"playoff\"], axis=\"columns\")\n",
    "\n",
    "\n",
    "print(df5)\n",
    "\n",
    "df5 = df4.sort_values(by=\"pitcher_difference\", ascending = False)\n",
    "\n",
    "# print(df5)\n"
   ]
  },
  {
   "cell_type": "markdown",
   "metadata": {},
   "source": [
    "# The largest negative differential in pitcher adjusted ratings to win a World Series Game \n",
    "### Barry Zito (SFG) vs Justin Verlander (DET)\n",
    "\n",
    "Barry Zito came into this game with an adjusted pitcher rating of -14.777 while Justin Verlander who was one of the best pitchers of his generation entered the game with a rating of 40.35. Verlander was the better pitcher while Zito probably shouldn't have been pitching this game. Despite the odds Zito came away with a 5 run victory winning the game 8-3.\n",
    "\n",
    "## The 2nd largest differential that was overcome\n",
    "### Kevin Brown (SDP) vs Andy Pettitte (NYY)\n",
    "The San Diego Padre's Kevin Brown was an above average strter while Andy Pettitte with an adjusted rating of 12.389 was most often in over his head and gave his to an adjusted rating of -20.116. The Padres failed to capitilize on the pitching at all getting shutout 3-0.\n",
    "\n",
    "\n",
    "## The biggest positive differential in pitcher adjusted ratings was won by cheaters! \n",
    "### Joe Ross (WSN) vs Gerrit Cole (HOU)\n",
    "\n",
    "The 2019 Houston Astros used cameras to steal signs and signal the Astro's pitcher for when a change-up would be pitched, a change-up is often considered easy to hit as they are much slower giving the batter more time to line up the ball. So while they do go down in the record books as having overcome the biggeset difference in pitcher adjusted ratings to their team, there is a **HUGE** asteriks on that game. The Houston Astros pitcher for this game.  \n",
    "\n",
    "That being said their pitcher Gerrit Cole is a fantistic pitcher and had an adjusted pitcher rating of 47.888, while his opponent Joe Ross was not an amzing pitcher having an adusted pitcher rating of -29.811 and going up against a team of cheaters probably did not help his cause. This game wasn't close as the Astros were able to put up 2 runs in the 2nd inning and another 2 in the 4th inning sealing the game as the Nationals were not able to get any offense going against the dominant Cole.\n",
    "\n",
    "![Astros](images/Astros.png)\n",
    "## The 2nd biggest postivive difference in adjusted pitcher ratings \n",
    "\n",
    "This game came quite rcently as well, when the Chicago White Sox won a game 7 - 2 with a a difference of pitcher adjusted ratings of 44.58, this falls well short of the cheating Astros who had a pitcher difference of 77.699.\n"
   ]
  },
  {
   "cell_type": "markdown",
   "metadata": {},
   "source": []
  },
  {
   "cell_type": "code",
   "execution_count": null,
   "metadata": {},
   "outputs": [],
   "source": []
  }
 ],
 "metadata": {
  "kernelspec": {
   "display_name": "Python 3",
   "language": "python",
   "name": "python3"
  },
  "language_info": {
   "codemirror_mode": {
    "name": "ipython",
    "version": 3
   },
   "file_extension": ".py",
   "mimetype": "text/x-python",
   "name": "python",
   "nbconvert_exporter": "python",
   "pygments_lexer": "ipython3",
   "version": "3.8.3"
  }
 },
 "nbformat": 4,
 "nbformat_minor": 4
}
